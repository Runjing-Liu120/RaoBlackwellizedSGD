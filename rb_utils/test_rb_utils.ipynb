{
 "cells": [
  {
   "cell_type": "code",
   "execution_count": 1,
   "metadata": {
    "collapsed": false
   },
   "outputs": [],
   "source": [
    "import numpy as np\n",
    "\n",
    "import matplotlib.pyplot as plt\n",
    "%matplotlib inline  \n",
    "\n",
    "import torch\n",
    "import torch.nn as nn\n",
    "import torch.optim as optim \n",
    "\n",
    "import itertools\n",
    "\n",
    "from copy import deepcopy\n",
    "\n",
    "import optimization_lib as optim_lib\n",
    "import rao_blackwellization_lib as rb_lib\n",
    "import baselines_lib as bs_lib \n",
    "\n",
    "from toy_experiment_lib import ToyExperiment"
   ]
  },
  {
   "cell_type": "code",
   "execution_count": 2,
   "metadata": {
    "collapsed": true
   },
   "outputs": [],
   "source": [
    "np.random.seed(454)\n",
    "_ = torch.manual_seed(454)"
   ]
  },
  {
   "cell_type": "markdown",
   "metadata": {},
   "source": [
    "# Fixed parameters"
   ]
  },
  {
   "cell_type": "code",
   "execution_count": 3,
   "metadata": {
    "collapsed": true
   },
   "outputs": [],
   "source": [
    "k = 5\n",
    "p0 = torch.rand(k)"
   ]
  },
  {
   "cell_type": "code",
   "execution_count": 4,
   "metadata": {
    "collapsed": false
   },
   "outputs": [],
   "source": [
    "eta = torch.Tensor([5.])\n",
    "toy_experiment = ToyExperiment(eta, p0)"
   ]
  },
  {
   "cell_type": "markdown",
   "metadata": {},
   "source": [
    "# Get true gradient "
   ]
  },
  {
   "cell_type": "code",
   "execution_count": 5,
   "metadata": {
    "collapsed": false,
    "scrolled": false
   },
   "outputs": [],
   "source": [
    "toy_experiment.set_parameter(eta)\n",
    "full_loss = toy_experiment.get_full_loss()"
   ]
  },
  {
   "cell_type": "code",
   "execution_count": 6,
   "metadata": {
    "collapsed": false
   },
   "outputs": [],
   "source": [
    "full_loss.backward()"
   ]
  },
  {
   "cell_type": "code",
   "execution_count": 7,
   "metadata": {
    "collapsed": false
   },
   "outputs": [],
   "source": [
    "true_grad = toy_experiment.eta.grad"
   ]
  },
  {
   "cell_type": "code",
   "execution_count": 8,
   "metadata": {
    "collapsed": false
   },
   "outputs": [
    {
     "data": {
      "text/plain": [
       "tensor([ 2.3195])"
      ]
     },
     "execution_count": 8,
     "metadata": {},
     "output_type": "execute_result"
    }
   ],
   "source": [
    "true_grad"
   ]
  },
  {
   "cell_type": "markdown",
   "metadata": {},
   "source": [
    "# Integrate out REINFORCE analytically, check gradient "
   ]
  },
  {
   "cell_type": "code",
   "execution_count": 9,
   "metadata": {
    "collapsed": false
   },
   "outputs": [
    {
     "ename": "TypeError",
     "evalue": "reinforce() got an unexpected keyword argument 'foo'",
     "output_type": "error",
     "traceback": [
      "\u001b[0;31m---------------------------------------------------------------------------\u001b[0m",
      "\u001b[0;31mTypeError\u001b[0m                                 Traceback (most recent call last)",
      "\u001b[0;32m<ipython-input-9-3ac3e2f4b242>\u001b[0m in \u001b[0;36m<module>\u001b[0;34m()\u001b[0m\n\u001b[1;32m      1\u001b[0m \u001b[0mtoy_experiment\u001b[0m\u001b[0;34m.\u001b[0m\u001b[0mset_parameter\u001b[0m\u001b[0;34m(\u001b[0m\u001b[0meta\u001b[0m\u001b[0;34m)\u001b[0m\u001b[0;34m\u001b[0m\u001b[0m\n\u001b[0;32m----> 2\u001b[0;31m \u001b[0mpm_loss\u001b[0m \u001b[0;34m=\u001b[0m \u001b[0mtoy_experiment\u001b[0m\u001b[0;34m.\u001b[0m\u001b[0mget_pm_loss\u001b[0m\u001b[0;34m(\u001b[0m\u001b[0mtopk\u001b[0m \u001b[0;34m=\u001b[0m \u001b[0mk\u001b[0m\u001b[0;34m,\u001b[0m \u001b[0mgrad_estimator\u001b[0m \u001b[0;34m=\u001b[0m \u001b[0mbs_lib\u001b[0m\u001b[0;34m.\u001b[0m\u001b[0mreinforce\u001b[0m\u001b[0;34m)\u001b[0m\u001b[0;34m\u001b[0m\u001b[0m\n\u001b[0m",
      "\u001b[0;32m~/Documents/astronomy/RaoBlackwellizedSGD/rb_utils/toy_experiment_lib.py\u001b[0m in \u001b[0;36mget_pm_loss\u001b[0;34m(self, topk, grad_estimator)\u001b[0m\n\u001b[1;32m     34\u001b[0m         \u001b[0mlog_class_weights\u001b[0m \u001b[0;34m=\u001b[0m \u001b[0mself\u001b[0m\u001b[0;34m.\u001b[0m\u001b[0mget_log_q\u001b[0m\u001b[0;34m(\u001b[0m\u001b[0;34m)\u001b[0m\u001b[0;34m\u001b[0m\u001b[0m\n\u001b[1;32m     35\u001b[0m         return rb_lib.get_raoblackwell_ps_loss(self.get_f_z, log_class_weights, topk,\n\u001b[0;32m---> 36\u001b[0;31m                                 grad_estimator)\n\u001b[0m\u001b[1;32m     37\u001b[0m     \u001b[0;32mdef\u001b[0m \u001b[0mget_full_loss\u001b[0m\u001b[0;34m(\u001b[0m\u001b[0mself\u001b[0m\u001b[0;34m)\u001b[0m\u001b[0;34m:\u001b[0m\u001b[0;34m\u001b[0m\u001b[0m\n\u001b[1;32m     38\u001b[0m         \u001b[0mlog_class_weights\u001b[0m \u001b[0;34m=\u001b[0m \u001b[0mself\u001b[0m\u001b[0;34m.\u001b[0m\u001b[0mget_log_q\u001b[0m\u001b[0;34m(\u001b[0m\u001b[0;34m)\u001b[0m\u001b[0;34m\u001b[0m\u001b[0m\n",
      "\u001b[0;32m~/Documents/astronomy/RaoBlackwellizedSGD/rb_utils/rao_blackwellization_lib.py\u001b[0m in \u001b[0;36mget_raoblackwell_ps_loss\u001b[0;34m(conditional_loss_fun, log_class_weights, topk, grad_estimator, grad_estimator_kwargs)\u001b[0m\n\u001b[1;32m     97\u001b[0m                                 \u001b[0mclass_weights\u001b[0m\u001b[0;34m,\u001b[0m \u001b[0mseq_tensor\u001b[0m\u001b[0;34m,\u001b[0m\u001b[0;31m \u001b[0m\u001b[0;31m\\\u001b[0m\u001b[0;34m\u001b[0m\u001b[0m\n\u001b[1;32m     98\u001b[0m                                 \u001b[0mz_sample\u001b[0m \u001b[0;34m=\u001b[0m \u001b[0msummed_indx\u001b[0m\u001b[0;34m,\u001b[0m\u001b[0;34m\u001b[0m\u001b[0m\n\u001b[0;32m---> 99\u001b[0;31m                                 **grad_estimator_kwargs)\n\u001b[0m\u001b[1;32m    100\u001b[0m \u001b[0;34m\u001b[0m\u001b[0m\n\u001b[1;32m    101\u001b[0m         \u001b[0;31m# sum\u001b[0m\u001b[0;34m\u001b[0m\u001b[0;34m\u001b[0m\u001b[0m\n",
      "\u001b[0;31mTypeError\u001b[0m: reinforce() got an unexpected keyword argument 'foo'"
     ]
    }
   ],
   "source": [
    "toy_experiment.set_parameter(eta)\n",
    "pm_loss = toy_experiment.get_pm_loss(topk = k, grad_estimator = bs_lib.reinforce)"
   ]
  },
  {
   "cell_type": "code",
   "execution_count": null,
   "metadata": {
    "collapsed": false
   },
   "outputs": [],
   "source": [
    "pm_loss.backward()"
   ]
  },
  {
   "cell_type": "code",
   "execution_count": null,
   "metadata": {
    "collapsed": false
   },
   "outputs": [],
   "source": [
    "toy_experiment.eta.grad"
   ]
  },
  {
   "cell_type": "code",
   "execution_count": null,
   "metadata": {
    "collapsed": false
   },
   "outputs": [],
   "source": [
    "# why isn't this zero?\n",
    "np.abs(true_grad - toy_experiment.eta.grad)"
   ]
  },
  {
   "cell_type": "code",
   "execution_count": null,
   "metadata": {
    "collapsed": true
   },
   "outputs": [],
   "source": [
    "def assert_close(x, y, tol): \n",
    "    diff = np.abs(x - y)\n",
    "    assert diff < tol, 'difference = {}, tolerance = {}'.format(diff, tol)"
   ]
  },
  {
   "cell_type": "code",
   "execution_count": null,
   "metadata": {
    "collapsed": false
   },
   "outputs": [],
   "source": [
    "assert_close(true_grad, toy_experiment.eta.grad, tol = 1e-6)"
   ]
  },
  {
   "cell_type": "markdown",
   "metadata": {},
   "source": [
    "# Sample and check REINFORCE "
   ]
  },
  {
   "cell_type": "code",
   "execution_count": null,
   "metadata": {
    "collapsed": false
   },
   "outputs": [],
   "source": [
    "n_samples = 10000\n",
    "\n",
    "reinforce_grads = torch.zeros(n_samples)\n",
    "\n",
    "for i in range(n_samples): \n",
    "    toy_experiment.set_parameter(eta)\n",
    "    pm_loss = toy_experiment.get_pm_loss(topk = 0, grad_estimator = bs_lib.reinforce)\n",
    "    pm_loss.backward()\n",
    "    \n",
    "    reinforce_grads[i] = toy_experiment.eta.grad"
   ]
  },
  {
   "cell_type": "code",
   "execution_count": null,
   "metadata": {
    "collapsed": false
   },
   "outputs": [],
   "source": [
    "torch.mean(reinforce_grads)"
   ]
  },
  {
   "cell_type": "code",
   "execution_count": null,
   "metadata": {
    "collapsed": false
   },
   "outputs": [],
   "source": [
    "torch.std(reinforce_grads) / np.sqrt(n_samples)"
   ]
  },
  {
   "cell_type": "code",
   "execution_count": null,
   "metadata": {
    "collapsed": false
   },
   "outputs": [],
   "source": [
    "assert_close(torch.mean(reinforce_grads), \n",
    "             true_grad, \n",
    "             3 * torch.std(reinforce_grads) / np.sqrt(n_samples))"
   ]
  },
  {
   "cell_type": "markdown",
   "metadata": {},
   "source": [
    "# Check REINFORCE with simple baseline "
   ]
  },
  {
   "cell_type": "code",
   "execution_count": null,
   "metadata": {
    "collapsed": false
   },
   "outputs": [],
   "source": [
    "n_samples = 10000\n",
    "\n",
    "reinforce_cv_grads = torch.zeros(n_samples)\n",
    "\n",
    "for i in range(n_samples): \n",
    "    toy_experiment.set_parameter(eta)\n",
    "    pm_loss = toy_experiment.get_pm_loss(topk = 0, grad_estimator = bs_lib.reinforce_w_double_sample_baseline)\n",
    "    pm_loss.backward()\n",
    "    \n",
    "    reinforce_cv_grads[i] = toy_experiment.eta.grad"
   ]
  },
  {
   "cell_type": "code",
   "execution_count": null,
   "metadata": {
    "collapsed": false
   },
   "outputs": [],
   "source": [
    "torch.mean(reinforce_cv_grads)"
   ]
  },
  {
   "cell_type": "code",
   "execution_count": null,
   "metadata": {
    "collapsed": false
   },
   "outputs": [],
   "source": [
    "torch.std(reinforce_cv_grads) / np.sqrt(n_samples)"
   ]
  },
  {
   "cell_type": "code",
   "execution_count": null,
   "metadata": {
    "collapsed": false
   },
   "outputs": [],
   "source": [
    "assert_close(torch.mean(reinforce_cv_grads), \n",
    "             true_grad, \n",
    "             3 * torch.std(reinforce_cv_grads) / np.sqrt(n_samples))"
   ]
  },
  {
   "cell_type": "markdown",
   "metadata": {},
   "source": [
    "# Check Rao-blackwellization of simple baseline"
   ]
  },
  {
   "cell_type": "code",
   "execution_count": null,
   "metadata": {
    "collapsed": false
   },
   "outputs": [],
   "source": [
    "n_samples = 10000\n",
    "\n",
    "reinforce_rb_grads = torch.zeros(n_samples)\n",
    "\n",
    "for i in range(n_samples): \n",
    "    toy_experiment.set_parameter(eta)\n",
    "    pm_loss = toy_experiment.get_pm_loss(topk = 3, grad_estimator = bs_lib.reinforce_w_double_sample_baseline)\n",
    "    pm_loss.backward()\n",
    "    \n",
    "    reinforce_rb_grads[i] = toy_experiment.eta.grad"
   ]
  },
  {
   "cell_type": "code",
   "execution_count": null,
   "metadata": {
    "collapsed": false,
    "scrolled": true
   },
   "outputs": [],
   "source": [
    "torch.mean(reinforce_rb_grads)"
   ]
  },
  {
   "cell_type": "code",
   "execution_count": null,
   "metadata": {
    "collapsed": false,
    "scrolled": false
   },
   "outputs": [],
   "source": [
    "torch.std(reinforce_rb_grads) / np.sqrt(n_samples)"
   ]
  },
  {
   "cell_type": "code",
   "execution_count": null,
   "metadata": {
    "collapsed": false
   },
   "outputs": [],
   "source": [
    "assert_close(torch.mean(reinforce_rb_grads), \n",
    "             true_grad, \n",
    "             3 * torch.std(reinforce_rb_grads) / np.sqrt(n_samples))"
   ]
  },
  {
   "cell_type": "code",
   "execution_count": null,
   "metadata": {
    "collapsed": true
   },
   "outputs": [],
   "source": []
  },
  {
   "cell_type": "code",
   "execution_count": null,
   "metadata": {
    "collapsed": true
   },
   "outputs": [],
   "source": []
  }
 ],
 "metadata": {
  "kernelspec": {
   "display_name": "Python (pytorch_04)",
   "language": "python",
   "name": "pytorch_update"
  },
  "language_info": {
   "codemirror_mode": {
    "name": "ipython",
    "version": 3
   },
   "file_extension": ".py",
   "mimetype": "text/x-python",
   "name": "python",
   "nbconvert_exporter": "python",
   "pygments_lexer": "ipython3",
   "version": "3.6.5"
  }
 },
 "nbformat": 4,
 "nbformat_minor": 2
}
