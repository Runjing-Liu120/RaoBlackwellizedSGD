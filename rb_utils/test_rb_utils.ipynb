{
 "cells": [
  {
   "cell_type": "markdown",
   "metadata": {},
   "source": [
    "In this notebook, we examine with the variances of the gradient estimators described in bernoulli_optimization_experiments.py"
   ]
  },
  {
   "cell_type": "code",
   "execution_count": 1,
   "metadata": {
    "collapsed": false
   },
   "outputs": [],
   "source": [
    "import numpy as np\n",
    "\n",
    "import matplotlib.pyplot as plt\n",
    "%matplotlib inline  \n",
    "\n",
    "import torch\n",
    "import torch.nn as nn\n",
    "import torch.optim as optim \n",
    "\n",
    "import itertools\n",
    "\n",
    "from copy import deepcopy\n",
    "\n",
    "import optimization_lib as optim_lib\n",
    "import rao_blackwellization_lib as rb_lib"
   ]
  },
  {
   "cell_type": "code",
   "execution_count": 2,
   "metadata": {
    "collapsed": true
   },
   "outputs": [],
   "source": [
    "np.random.seed(454)\n",
    "_ = torch.manual_seed(454)"
   ]
  },
  {
   "cell_type": "markdown",
   "metadata": {},
   "source": [
    "# Set up experiment class"
   ]
  },
  {
   "cell_type": "code",
   "execution_count": 3,
   "metadata": {
    "collapsed": false
   },
   "outputs": [],
   "source": [
    "class ToyExperiment(object): \n",
    "    def __init__(self, eta, p0):\n",
    "        # number of categories\n",
    "        self.k = len(p0)\n",
    "        \n",
    "        self.p0 = p0\n",
    "        \n",
    "        # the parameter\n",
    "        self.set_parameter(eta) \n",
    "        \n",
    "        #\n",
    "        self.log_softmax = torch.nn.LogSoftmax(dim = 0)\n",
    "    \n",
    "    def set_parameter(self, eta): \n",
    "        self.eta = deepcopy(eta)\n",
    "        self.eta.requires_grad_(True)\n",
    "    \n",
    "    def get_log_q(self):\n",
    "        return self.log_softmax(self.eta * self.p0).view(1, self.k).detach()\n",
    "    \n",
    "    def get_f_z(self, z): \n",
    "        if isinstance(5, int): \n",
    "            z = torch.Tensor([z])\n",
    "        \n",
    "        return (z.float() - self.eta) ** 2\n",
    "    \n",
    "    def get_pm_loss(self, topk = 0, use_baseline = False): \n",
    "        log_class_weights = self.get_log_q()\n",
    "        return rb_lib.get_raoblackwell_ps_loss(self.get_f_z, log_class_weights, topk,\n",
    "                                use_baseline)\n",
    "    def get_full_loss(self): \n",
    "        log_class_weights = self.get_log_q()\n",
    "        class_weights = torch.exp(log_class_weights)\n",
    "        \n",
    "        return rb_lib.get_full_loss(self.get_f_z, class_weights)"
   ]
  },
  {
   "cell_type": "markdown",
   "metadata": {},
   "source": [
    "# Fixed parameters"
   ]
  },
  {
   "cell_type": "code",
   "execution_count": 4,
   "metadata": {
    "collapsed": true
   },
   "outputs": [],
   "source": [
    "k = 5\n",
    "p0 = torch.rand(k)"
   ]
  },
  {
   "cell_type": "code",
   "execution_count": 5,
   "metadata": {
    "collapsed": true
   },
   "outputs": [],
   "source": [
    "eta = torch.Tensor([5.])\n",
    "toy_experiment = ToyExperiment(eta, p0)"
   ]
  },
  {
   "cell_type": "markdown",
   "metadata": {},
   "source": [
    "# Get true gradient "
   ]
  },
  {
   "cell_type": "code",
   "execution_count": 6,
   "metadata": {
    "collapsed": false,
    "scrolled": false
   },
   "outputs": [],
   "source": [
    "toy_experiment.set_parameter(eta)\n",
    "full_loss = toy_experiment.get_full_loss()"
   ]
  },
  {
   "cell_type": "code",
   "execution_count": 7,
   "metadata": {
    "collapsed": false
   },
   "outputs": [],
   "source": [
    "full_loss.backward()"
   ]
  },
  {
   "cell_type": "code",
   "execution_count": 8,
   "metadata": {
    "collapsed": false
   },
   "outputs": [],
   "source": [
    "true_grad = toy_experiment.eta.grad"
   ]
  },
  {
   "cell_type": "code",
   "execution_count": 9,
   "metadata": {
    "collapsed": false
   },
   "outputs": [
    {
     "data": {
      "text/plain": [
       "tensor([ 2.9941])"
      ]
     },
     "execution_count": 9,
     "metadata": {},
     "output_type": "execute_result"
    }
   ],
   "source": [
    "true_grad"
   ]
  },
  {
   "cell_type": "markdown",
   "metadata": {},
   "source": [
    "# Integrate out REINFORCE analytically, check gradient "
   ]
  },
  {
   "cell_type": "code",
   "execution_count": 10,
   "metadata": {
    "collapsed": false
   },
   "outputs": [],
   "source": [
    "toy_experiment.set_parameter(eta)\n",
    "pm_loss = toy_experiment.get_pm_loss(topk = k, use_baseline = False)"
   ]
  },
  {
   "cell_type": "code",
   "execution_count": 13,
   "metadata": {
    "collapsed": false
   },
   "outputs": [],
   "source": [
    "pm_loss.backward()"
   ]
  },
  {
   "cell_type": "code",
   "execution_count": 14,
   "metadata": {
    "collapsed": false
   },
   "outputs": [
    {
     "data": {
      "text/plain": [
       "tensor([ 2.9941])"
      ]
     },
     "execution_count": 14,
     "metadata": {},
     "output_type": "execute_result"
    }
   ],
   "source": [
    "toy_experiment.eta.grad"
   ]
  },
  {
   "cell_type": "code",
   "execution_count": 15,
   "metadata": {
    "collapsed": false
   },
   "outputs": [
    {
     "data": {
      "text/plain": [
       "tensor(1.00000e-07 *\n",
       "       [ 2.3842])"
      ]
     },
     "execution_count": 15,
     "metadata": {},
     "output_type": "execute_result"
    }
   ],
   "source": [
    "# why isn't this zero?\n",
    "np.abs(true_grad - toy_experiment.eta.grad)"
   ]
  },
  {
   "cell_type": "code",
   "execution_count": 16,
   "metadata": {
    "collapsed": true
   },
   "outputs": [],
   "source": [
    "def assert_close(x, y, tol): \n",
    "    diff = np.abs(x - y)\n",
    "    assert diff < tol, 'difference = {}, tolerance = {}'.format(diff, tol)"
   ]
  },
  {
   "cell_type": "code",
   "execution_count": 17,
   "metadata": {
    "collapsed": false
   },
   "outputs": [],
   "source": [
    "assert_close(true_grad, toy_experiment.eta.grad, tol = 1e-6)"
   ]
  },
  {
   "cell_type": "markdown",
   "metadata": {},
   "source": [
    "# Sample and check REINFORCE "
   ]
  },
  {
   "cell_type": "code",
   "execution_count": 18,
   "metadata": {
    "collapsed": true
   },
   "outputs": [],
   "source": [
    "n_samples = 10000\n",
    "\n",
    "reinforce_grads = torch.zeros(n_samples)\n",
    "\n",
    "for i in range(n_samples): \n",
    "    toy_experiment.set_parameter(eta)\n",
    "    pm_loss = toy_experiment.get_pm_loss(topk = 0, use_baseline = False)\n",
    "    pm_loss.backward()\n",
    "    \n",
    "    reinforce_grads[i] = toy_experiment.eta.grad"
   ]
  },
  {
   "cell_type": "code",
   "execution_count": 19,
   "metadata": {
    "collapsed": false
   },
   "outputs": [
    {
     "data": {
      "text/plain": [
       "tensor(2.9788)"
      ]
     },
     "execution_count": 19,
     "metadata": {},
     "output_type": "execute_result"
    }
   ],
   "source": [
    "torch.mean(reinforce_grads)"
   ]
  },
  {
   "cell_type": "code",
   "execution_count": 20,
   "metadata": {
    "collapsed": false
   },
   "outputs": [
    {
     "data": {
      "text/plain": [
       "tensor(1.00000e-02 *\n",
       "       1.6699)"
      ]
     },
     "execution_count": 20,
     "metadata": {},
     "output_type": "execute_result"
    }
   ],
   "source": [
    "torch.std(reinforce_grads) / np.sqrt(n_samples)"
   ]
  },
  {
   "cell_type": "code",
   "execution_count": 21,
   "metadata": {
    "collapsed": false
   },
   "outputs": [],
   "source": [
    "assert_close(torch.mean(reinforce_grads), \n",
    "             true_grad, \n",
    "             3 * torch.std(reinforce_grads) / np.sqrt(n_samples))"
   ]
  },
  {
   "cell_type": "markdown",
   "metadata": {},
   "source": [
    "# Check REINFORCE with baseline "
   ]
  },
  {
   "cell_type": "code",
   "execution_count": 22,
   "metadata": {
    "collapsed": true
   },
   "outputs": [],
   "source": [
    "n_samples = 10000\n",
    "\n",
    "reinforce_cv_grads = torch.zeros(n_samples)\n",
    "\n",
    "for i in range(n_samples): \n",
    "    toy_experiment.set_parameter(eta)\n",
    "    pm_loss = toy_experiment.get_pm_loss(topk = 0, use_baseline = True)\n",
    "    pm_loss.backward()\n",
    "    \n",
    "    reinforce_cv_grads[i] = toy_experiment.eta.grad"
   ]
  },
  {
   "cell_type": "code",
   "execution_count": 23,
   "metadata": {
    "collapsed": false
   },
   "outputs": [
    {
     "data": {
      "text/plain": [
       "tensor(2.9974)"
      ]
     },
     "execution_count": 23,
     "metadata": {},
     "output_type": "execute_result"
    }
   ],
   "source": [
    "torch.mean(reinforce_cv_grads)"
   ]
  },
  {
   "cell_type": "code",
   "execution_count": 24,
   "metadata": {
    "collapsed": false
   },
   "outputs": [
    {
     "data": {
      "text/plain": [
       "tensor(1.00000e-02 *\n",
       "       1.6955)"
      ]
     },
     "execution_count": 24,
     "metadata": {},
     "output_type": "execute_result"
    }
   ],
   "source": [
    "torch.std(reinforce_cv_grads) / np.sqrt(n_samples)"
   ]
  },
  {
   "cell_type": "code",
   "execution_count": 25,
   "metadata": {
    "collapsed": false
   },
   "outputs": [],
   "source": [
    "assert_close(torch.mean(reinforce_cv_grads), \n",
    "             true_grad, \n",
    "             3 * torch.std(reinforce_cv_grads) / np.sqrt(n_samples))"
   ]
  },
  {
   "cell_type": "markdown",
   "metadata": {},
   "source": [
    "# Check Rao-blackwellization "
   ]
  },
  {
   "cell_type": "code",
   "execution_count": 26,
   "metadata": {
    "collapsed": false
   },
   "outputs": [],
   "source": [
    "n_samples = 10000\n",
    "\n",
    "reinforce_rb_grads = torch.zeros(n_samples)\n",
    "\n",
    "for i in range(n_samples): \n",
    "    toy_experiment.set_parameter(eta)\n",
    "    pm_loss = toy_experiment.get_pm_loss(topk = 3, use_baseline = True)\n",
    "    pm_loss.backward()\n",
    "    \n",
    "    reinforce_rb_grads[i] = toy_experiment.eta.grad"
   ]
  },
  {
   "cell_type": "code",
   "execution_count": 27,
   "metadata": {
    "collapsed": false
   },
   "outputs": [
    {
     "data": {
      "text/plain": [
       "tensor(2.9936)"
      ]
     },
     "execution_count": 27,
     "metadata": {},
     "output_type": "execute_result"
    }
   ],
   "source": [
    "torch.mean(reinforce_rb_grads)"
   ]
  },
  {
   "cell_type": "code",
   "execution_count": 28,
   "metadata": {
    "collapsed": false
   },
   "outputs": [
    {
     "data": {
      "text/plain": [
       "tensor(1.00000e-04 *\n",
       "       2.9131)"
      ]
     },
     "execution_count": 28,
     "metadata": {},
     "output_type": "execute_result"
    }
   ],
   "source": [
    "torch.std(reinforce_rb_grads) / np.sqrt(n_samples)"
   ]
  },
  {
   "cell_type": "code",
   "execution_count": 29,
   "metadata": {
    "collapsed": false
   },
   "outputs": [
    {
     "ename": "AssertionError",
     "evalue": "difference = tensor(1.00000e-04 *\n       [ 5.3406]), tolerance = 0.00029131374321877956",
     "output_type": "error",
     "traceback": [
      "\u001b[0;31m---------------------------------------------------------------------------\u001b[0m",
      "\u001b[0;31mAssertionError\u001b[0m                            Traceback (most recent call last)",
      "\u001b[0;32m<ipython-input-29-e77fa2b79e1a>\u001b[0m in \u001b[0;36m<module>\u001b[0;34m()\u001b[0m\n\u001b[1;32m      1\u001b[0m assert_close(torch.mean(reinforce_rb_grads), \n\u001b[1;32m      2\u001b[0m              \u001b[0mtrue_grad\u001b[0m\u001b[0;34m,\u001b[0m\u001b[0;34m\u001b[0m\u001b[0m\n\u001b[0;32m----> 3\u001b[0;31m              torch.std(reinforce_rb_grads) / np.sqrt(n_samples))\n\u001b[0m",
      "\u001b[0;32m<ipython-input-16-2ceffe5d4aad>\u001b[0m in \u001b[0;36massert_close\u001b[0;34m(x, y, tol)\u001b[0m\n\u001b[1;32m      1\u001b[0m \u001b[0;32mdef\u001b[0m \u001b[0massert_close\u001b[0m\u001b[0;34m(\u001b[0m\u001b[0mx\u001b[0m\u001b[0;34m,\u001b[0m \u001b[0my\u001b[0m\u001b[0;34m,\u001b[0m \u001b[0mtol\u001b[0m\u001b[0;34m)\u001b[0m\u001b[0;34m:\u001b[0m\u001b[0;34m\u001b[0m\u001b[0m\n\u001b[1;32m      2\u001b[0m     \u001b[0mdiff\u001b[0m \u001b[0;34m=\u001b[0m \u001b[0mnp\u001b[0m\u001b[0;34m.\u001b[0m\u001b[0mabs\u001b[0m\u001b[0;34m(\u001b[0m\u001b[0mx\u001b[0m \u001b[0;34m-\u001b[0m \u001b[0my\u001b[0m\u001b[0;34m)\u001b[0m\u001b[0;34m\u001b[0m\u001b[0m\n\u001b[0;32m----> 3\u001b[0;31m     \u001b[0;32massert\u001b[0m \u001b[0mdiff\u001b[0m \u001b[0;34m<\u001b[0m \u001b[0mtol\u001b[0m\u001b[0;34m,\u001b[0m \u001b[0;34m'difference = {}, tolerance = {}'\u001b[0m\u001b[0;34m.\u001b[0m\u001b[0mformat\u001b[0m\u001b[0;34m(\u001b[0m\u001b[0mdiff\u001b[0m\u001b[0;34m,\u001b[0m \u001b[0mtol\u001b[0m\u001b[0;34m)\u001b[0m\u001b[0;34m\u001b[0m\u001b[0m\n\u001b[0m",
      "\u001b[0;31mAssertionError\u001b[0m: difference = tensor(1.00000e-04 *\n       [ 5.3406]), tolerance = 0.00029131374321877956"
     ]
    }
   ],
   "source": [
    "assert_close(torch.mean(reinforce_rb_grads), \n",
    "             true_grad, \n",
    "             3 * torch.std(reinforce_rb_grads) / np.sqrt(n_samples))"
   ]
  },
  {
   "cell_type": "code",
   "execution_count": null,
   "metadata": {
    "collapsed": true
   },
   "outputs": [],
   "source": []
  },
  {
   "cell_type": "code",
   "execution_count": null,
   "metadata": {
    "collapsed": true
   },
   "outputs": [],
   "source": []
  }
 ],
 "metadata": {
  "kernelspec": {
   "display_name": "Python (pytorch_04)",
   "language": "python",
   "name": "pytorch_update"
  },
  "language_info": {
   "codemirror_mode": {
    "name": "ipython",
    "version": 3
   },
   "file_extension": ".py",
   "mimetype": "text/x-python",
   "name": "python",
   "nbconvert_exporter": "python",
   "pygments_lexer": "ipython3",
   "version": "3.6.5"
  }
 },
 "nbformat": 4,
 "nbformat_minor": 2
}
