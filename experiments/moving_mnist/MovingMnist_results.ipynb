{
 "cells": [
  {
   "cell_type": "code",
   "execution_count": 1,
   "metadata": {
    "collapsed": false
   },
   "outputs": [],
   "source": [
    "import numpy as np\n",
    "\n",
    "import matplotlib.pyplot as plt\n",
    "%matplotlib inline  \n",
    "\n",
    "import torch\n",
    "import torch.nn as nn\n",
    "\n",
    "import torch.optim as optim\n",
    "\n",
    "import sys\n",
    "sys.path.insert(0, '../libraries/')\n",
    "\n",
    "import mnist_data_utils \n",
    "import mnist_vae_lib\n",
    "import vae_training_lib\n",
    "\n",
    "import torchvision.datasets as dset\n",
    "import torchvision.transforms as transforms\n",
    "import torch.nn.functional as f\n",
    "\n",
    "device = torch.device(\"cuda:0\" if torch.cuda.is_available() else \"cpu\")\n"
   ]
  },
  {
   "cell_type": "markdown",
   "metadata": {},
   "source": [
    "# Load data"
   ]
  },
  {
   "cell_type": "code",
   "execution_count": 2,
   "metadata": {
    "collapsed": true
   },
   "outputs": [],
   "source": [
    "data_dir = './mnist_data/'\n",
    "propn_sample = 0.05"
   ]
  },
  {
   "cell_type": "code",
   "execution_count": 3,
   "metadata": {
    "collapsed": false
   },
   "outputs": [],
   "source": [
    "train_set, test_set = mnist_data_utils.get_moving_mnist_dataset(data_dir, propn_sample)"
   ]
  },
  {
   "cell_type": "code",
   "execution_count": 4,
   "metadata": {
    "collapsed": false
   },
   "outputs": [],
   "source": [
    "batchsize = 5\n",
    "\n",
    "train_loader = torch.utils.data.DataLoader(\n",
    "                 dataset=train_set,\n",
    "                 batch_size=batchsize,\n",
    "                 shuffle=True)\n",
    "\n",
    "test_loader = torch.utils.data.DataLoader(\n",
    "                dataset=test_set,\n",
    "                batch_size=batchsize,\n",
    "                shuffle=False)\n"
   ]
  },
  {
   "cell_type": "code",
   "execution_count": 5,
   "metadata": {
    "collapsed": false
   },
   "outputs": [],
   "source": [
    "for batch_idx, d in enumerate(train_loader):\n",
    "    data_train = d\n",
    "    break\n",
    "    \n",
    "for batch_idx, d in enumerate(test_loader):\n",
    "    data_test = d\n",
    "    break"
   ]
  },
  {
   "cell_type": "code",
   "execution_count": 6,
   "metadata": {
    "collapsed": true
   },
   "outputs": [],
   "source": [
    "slen = data_train['image'].shape[-1]"
   ]
  },
  {
   "cell_type": "code",
   "execution_count": 7,
   "metadata": {
    "collapsed": false,
    "scrolled": true
   },
   "outputs": [
    {
     "data": {
      "image/png": "[encoded data removed]",
      "text/plain": [
       "<Figure size 288x288 with 1 Axes>"
      ]
     },
     "metadata": {},
     "output_type": "display_data"
    },
    {
     "data": {
      "image/png": "[encoded data removed]",
      "text/plain": [
       "<Figure size 288x288 with 1 Axes>"
      ]
     },
     "metadata": {},
     "output_type": "display_data"
    },
    {
     "data": {
      "image/png": "[encoded data removed]",
      "text/plain": [
       "<Figure size 288x288 with 1 Axes>"
      ]
     },
     "metadata": {},
     "output_type": "display_data"
    },
    {
     "data": {
      "image/png": "[encoded data removed]",
      "text/plain": [
       "<Figure size 288x288 with 1 Axes>"
      ]
     },
     "metadata": {},
     "output_type": "display_data"
    },
    {
     "data": {
      "image/png": "[encoded data removed]",
      "text/plain": [
       "<Figure size 288x288 with 1 Axes>"
      ]
     },
     "metadata": {},
     "output_type": "display_data"
    }
   ],
   "source": [
    "for i in range(batchsize): \n",
    "    plt.matshow(data_train['image'][i, 0, :, :])"
   ]
  },
  {
   "cell_type": "code",
   "execution_count": 8,
   "metadata": {
    "collapsed": true
   },
   "outputs": [],
   "source": [
    "image = data_train['image']\n",
    "pixel_2d = data_train['pixel_2d']"
   ]
  },
  {
   "cell_type": "markdown",
   "metadata": {},
   "source": [
    "# Define VAE"
   ]
  },
  {
   "cell_type": "code",
   "execution_count": 9,
   "metadata": {
    "collapsed": false
   },
   "outputs": [],
   "source": [
    "moving_mnist_vae = mnist_vae_lib.MovingHandwritingVAE()"
   ]
  },
  {
   "cell_type": "code",
   "execution_count": 19,
   "metadata": {
    "collapsed": false
   },
   "outputs": [
    {
     "data": {
      "text/plain": [
       "MovingHandwritingVAE(\n",
       "  (mnist_vae): HandwritingVAE(\n",
       "    (encoder): MLPEncoder(\n",
       "      (fc1): Linear(in_features=841, out_features=256, bias=True)\n",
       "      (fc2): Linear(in_features=256, out_features=10, bias=True)\n",
       "      (tanh): Tanh()\n",
       "    )\n",
       "    (decoder): MLPDecoder(\n",
       "      (fc1): Linear(in_features=5, out_features=256, bias=True)\n",
       "      (fc2): Linear(in_features=256, out_features=841, bias=True)\n",
       "      (sigmoid): Sigmoid()\n",
       "      (tanh): Tanh()\n",
       "    )\n",
       "  )\n",
       "  (pixel_attention): PixelAttention(\n",
       "    (attn): Sequential(\n",
       "      (0): Conv2d(1, 7, kernel_size=(3, 3), stride=(1, 1))\n",
       "      (1): ReLU()\n",
       "      (2): Conv2d(7, 7, kernel_size=(3, 3), stride=(1, 1))\n",
       "      (3): ReLU()\n",
       "      (4): Conv2d(7, 7, kernel_size=(3, 3), stride=(1, 1))\n",
       "      (5): ReLU()\n",
       "      (6): Conv2d(7, 1, kernel_size=(3, 3), stride=(1, 1))\n",
       "      (7): Flatten()\n",
       "    )\n",
       "    (fc1): Linear(in_features=3600, out_features=4624, bias=True)\n",
       "    (log_softmax): LogSoftmax()\n",
       "  )\n",
       ")"
      ]
     },
     "execution_count": 19,
     "metadata": {},
     "output_type": "execute_result"
    }
   ],
   "source": [
    "vae_file = './mnist_vae_results/moving_mnist_vae_nsamples6_epoch60'\n",
    "\n",
    "moving_mnist_vae.load_state_dict(torch.load(vae_file,\n",
    "                               map_location=lambda storage, loc: storage))\n",
    "\n",
    "moving_mnist_vae.eval()"
   ]
  },
  {
   "cell_type": "code",
   "execution_count": 20,
   "metadata": {
    "collapsed": true
   },
   "outputs": [],
   "source": [
    "image = data_train['image']\n",
    "pixel_2d = data_train['pixel_2d']"
   ]
  },
  {
   "cell_type": "code",
   "execution_count": 21,
   "metadata": {
    "collapsed": false
   },
   "outputs": [],
   "source": [
    "pixel_probs = moving_mnist_vae.pixel_attention(image)"
   ]
  },
  {
   "cell_type": "code",
   "execution_count": 22,
   "metadata": {
    "collapsed": true
   },
   "outputs": [],
   "source": [
    "map_pixel_1d = torch.argmax(pixel_probs, dim=1)"
   ]
  },
  {
   "cell_type": "code",
   "execution_count": 23,
   "metadata": {
    "collapsed": false
   },
   "outputs": [],
   "source": [
    "use_true_loc = False\n",
    "if use_true_loc: \n",
    "    map_pixel_1d = moving_mnist_vae._pixel_1d_from_2d(pixel_2d)\n",
    "recon_means = moving_mnist_vae.forward_cond_pixel_1d(data_train['image'], map_pixel_1d)[0]"
   ]
  },
  {
   "cell_type": "code",
   "execution_count": 24,
   "metadata": {
    "collapsed": false
   },
   "outputs": [
    {
     "data": {
      "image/png": "[encoded data removed]",
      "text/plain": [
       "<Figure size 432x432 with 2 Axes>"
      ]
     },
     "metadata": {},
     "output_type": "display_data"
    },
    {
     "data": {
      "image/png": "[encoded data removed]",
      "text/plain": [
       "<Figure size 432x432 with 2 Axes>"
      ]
     },
     "metadata": {},
     "output_type": "display_data"
    },
    {
     "data": {
      "image/png": "[encoded data removed]",
      "text/plain": [
       "<Figure size 432x432 with 2 Axes>"
      ]
     },
     "metadata": {},
     "output_type": "display_data"
    },
    {
     "data": {
      "image/png": "[encoded data removed]",
      "text/plain": [
       "<Figure size 432x432 with 2 Axes>"
      ]
     },
     "metadata": {},
     "output_type": "display_data"
    },
    {
     "data": {
      "image/png": "[encoded data removed]",
      "text/plain": [
       "<Figure size 432x432 with 2 Axes>"
      ]
     },
     "metadata": {},
     "output_type": "display_data"
    }
   ],
   "source": [
    "# Check reconstructions \n",
    "\n",
    "for i in range(0, 5): \n",
    "    \n",
    "    _, axarr = plt.subplots(1, 2, figsize=(6, 6))\n",
    "    \n",
    "    axarr[0].matshow(data_train['image'][i, 0, :, :])\n",
    "    axarr[1].matshow(recon_means[i, 0, :, :].detach())"
   ]
  },
  {
   "cell_type": "code",
   "execution_count": null,
   "metadata": {
    "collapsed": true
   },
   "outputs": [],
   "source": []
  },
  {
   "cell_type": "code",
   "execution_count": 25,
   "metadata": {
    "collapsed": false
   },
   "outputs": [],
   "source": [
    "# batch_losses = np.load('./mnist_vae_results/moving_mnist_vae_nsamples6_batch_losses.npy')"
   ]
  },
  {
   "cell_type": "code",
   "execution_count": 30,
   "metadata": {
    "collapsed": true
   },
   "outputs": [],
   "source": [
    "batch_losses_rb = np.load('./mnist_vae_results/moving_mnist_vae_topk5_batch_losses.npy')"
   ]
  },
  {
   "cell_type": "code",
   "execution_count": 32,
   "metadata": {
    "collapsed": false
   },
   "outputs": [],
   "source": [
    "batch_losses_resample = np.load('./mnist_vae_results/moving_mnist_vae_nsamples6_batch_losses.npy')"
   ]
  },
  {
   "cell_type": "code",
   "execution_count": 33,
   "metadata": {
    "collapsed": false,
    "scrolled": true
   },
   "outputs": [
    {
     "data": {
      "image/png": "[encoded data removed]",
      "text/plain": [
       "<Figure size 432x288 with 1 Axes>"
      ]
     },
     "metadata": {},
     "output_type": "display_data"
    }
   ],
   "source": [
    "# plt.plot(batch_losses, 'r-x'); \n",
    "plt.plot(batch_losses_rb, 'b-x'); \n",
    "plt.plot(batch_losses_resample, 'g-x');"
   ]
  },
  {
   "cell_type": "code",
   "execution_count": 29,
   "metadata": {
    "collapsed": false
   },
   "outputs": [
    {
     "data": {
      "text/plain": [
       "array([ 1.72043726e+03,  5.17167358e+02,  2.78779144e+02,  2.18725220e+02,\n",
       "        1.57335510e+02,  1.26931595e+02,  1.07892746e+02,  9.72463989e+01,\n",
       "        8.91983032e+01,  7.77170944e+01,  7.17990799e+01,  6.08801460e+01,\n",
       "        4.96869659e+01,  3.98826790e+01,  3.74044151e+01,  3.15872841e+01,\n",
       "        2.76685581e+01,  2.24182453e+01,  1.73858643e+01,  1.50195503e+01,\n",
       "        1.33754606e+01,  1.06669855e+01,  9.30892944e+00,  7.64244413e+00,\n",
       "        7.13032961e+00,  6.73584652e+00,  6.12090206e+00,  4.92782927e+00,\n",
       "        3.60747576e+00,  1.39883208e+00,  1.75064594e-01, -4.71608460e-01,\n",
       "       -8.55045915e-01, -2.14553785e+00, -2.13433981e+00, -2.03626323e+00,\n",
       "       -2.20728540e+00, -2.75166249e+00, -2.17760396e+00, -3.93466616e+00,\n",
       "       -3.37399006e+00, -3.39593291e+00, -3.58858228e+00, -3.54632592e+00,\n",
       "       -4.02671242e+00, -3.56663632e+00, -4.45882845e+00, -3.86872482e+00,\n",
       "       -4.95119143e+00, -4.01896858e+00, -4.76582289e+00, -4.46685219e+00,\n",
       "       -5.16069555e+00, -5.10897732e+00, -4.52967787e+00, -4.98210955e+00,\n",
       "       -5.66353512e+00, -5.09850502e+00, -5.80325413e+00, -6.57469511e+00,\n",
       "       -5.29589701e+00, -5.69408083e+00, -5.79168129e+00, -5.76755142e+00,\n",
       "       -5.76574612e+00, -5.91642523e+00, -6.63499260e+00, -5.99552011e+00,\n",
       "       -6.77295351e+00, -6.47512674e+00, -7.13980484e+00, -7.30798864e+00,\n",
       "       -8.04447079e+00, -7.70927668e+00, -7.71435547e+00, -7.66635084e+00],\n",
       "      dtype=float32)"
      ]
     },
     "execution_count": 29,
     "metadata": {},
     "output_type": "execute_result"
    }
   ],
   "source": [
    "batch_losses"
   ]
  },
  {
   "cell_type": "code",
   "execution_count": null,
   "metadata": {
    "collapsed": true
   },
   "outputs": [],
   "source": []
  }
 ],
 "metadata": {
  "kernelspec": {
   "display_name": "Python (pytorch_04)",
   "language": "python",
   "name": "pytorch_update"
  },
  "language_info": {
   "codemirror_mode": {
    "name": "ipython",
    "version": 3
   },
   "file_extension": ".py",
   "mimetype": "text/x-python",
   "name": "python",
   "nbconvert_exporter": "python",
   "pygments_lexer": "ipython3",
   "version": "3.6.5"
  }
 },
 "nbformat": 4,
 "nbformat_minor": 2
}
