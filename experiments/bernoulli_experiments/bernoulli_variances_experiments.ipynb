{
 "cells": [
  {
   "cell_type": "markdown",
   "metadata": {},
   "source": [
    "This notebook reproduces Bernoulli experiment results in our paper, \n",
    "\n",
    "https://arxiv.org/pdf/1810.04777.pdf\n",
    "\n",
    "Specifically, it displays the variances gains of Rao-Blackwellization shown in Figure 2. \n",
    "\n",
    "See bernoulli_optimization_experiments.ipynb for the experiments on the optimization (Figure 1). "
   ]
  },
  {
   "cell_type": "code",
   "execution_count": 1,
   "metadata": {
    "collapsed": false
   },
   "outputs": [],
   "source": [
    "import numpy as np\n",
    "\n",
    "import matplotlib.pyplot as plt\n",
    "%matplotlib inline  \n",
    "\n",
    "import torch\n",
    "import torch.nn as nn\n",
    "import torch.optim as optim \n",
    "\n",
    "from copy import deepcopy\n",
    "\n",
    "import bernoulli_experiments_lib as bern_lib\n",
    "\n",
    "import sys\n",
    "sys.path.insert(0, '../../rb_utils/')\n",
    "import optimization_lib as optim_lib\n",
    "import baselines_lib as bs_lib"
   ]
  },
  {
   "cell_type": "code",
   "execution_count": 2,
   "metadata": {
    "collapsed": false
   },
   "outputs": [],
   "source": [
    "softmax = nn.Softmax(dim = 0)\n",
    "\n",
    "sigmoid = nn.Sigmoid()"
   ]
  },
  {
   "cell_type": "code",
   "execution_count": 3,
   "metadata": {
    "collapsed": true
   },
   "outputs": [],
   "source": [
    "np.random.seed(454)\n",
    "_ = torch.manual_seed(454)"
   ]
  },
  {
   "cell_type": "code",
   "execution_count": 4,
   "metadata": {
    "collapsed": false
   },
   "outputs": [
    {
     "name": "stdout",
     "output_type": "stream",
     "text": [
      "p0:  tensor([0.6000, 0.5100, 0.4800]) \n",
      "\n",
      "sum(p0^2):  tensor(0.8505)\n",
      "sum((1 - p0)^2):  tensor(0.6705) \n",
      "\n",
      "optimal loss:  tensor(0.6705)\n",
      "optimal x:  1\n"
     ]
    }
   ],
   "source": [
    "# fixed parameters\n",
    "d = 3\n",
    "# p0 = torch.rand(d)\n",
    "p0 = torch.Tensor([0.6, 0.51, 0.48])\n",
    "print('p0: ', p0, '\\n')\n",
    "\n",
    "print('sum(p0^2): ', torch.sum(p0**2))\n",
    "print('sum((1 - p0)^2): ', torch.sum((1 - p0)**2), '\\n')\n",
    "\n",
    "# the optima\n",
    "x_optimal = torch.argmin(torch.Tensor([torch.sum(p0**2), torch.sum((1 - p0)**2)]))\n",
    "\n",
    "optimal_loss = torch.min(torch.Tensor([torch.sum(p0**2), torch.sum((1 - p0)**2)]))\n",
    "\n",
    "print('optimal loss: ', optimal_loss)\n",
    "print('optimal x: ', x_optimal.numpy())"
   ]
  },
  {
   "cell_type": "code",
   "execution_count": 5,
   "metadata": {
    "collapsed": false
   },
   "outputs": [
    {
     "name": "stdout",
     "output_type": "stream",
     "text": [
      "init phi0:  tensor([0.], requires_grad=True)\n",
      "init e_b:  tensor([0.5000], grad_fn=<SigmoidBackward>)\n"
     ]
    }
   ],
   "source": [
    "# random init for phi\n",
    "phi0 = torch.Tensor([0.0])\n",
    "phi0.requires_grad_(True)\n",
    "print('init phi0: ', phi0)\n",
    "print('init e_b: ', sigmoid(phi0))"
   ]
  },
  {
   "cell_type": "code",
   "execution_count": 6,
   "metadata": {
    "collapsed": false
   },
   "outputs": [],
   "source": [
    "params = [phi0]\n",
    "optimizer = optim.SGD(params, lr = 1.0)"
   ]
  },
  {
   "cell_type": "markdown",
   "metadata": {
    "collapsed": true
   },
   "source": [
    "# True gradient"
   ]
  },
  {
   "cell_type": "code",
   "execution_count": 7,
   "metadata": {
    "collapsed": false
   },
   "outputs": [],
   "source": [
    "bern_experiment = bern_lib.BernoulliExperiments(p0, d, phi0)"
   ]
  },
  {
   "cell_type": "code",
   "execution_count": 8,
   "metadata": {
    "collapsed": false
   },
   "outputs": [],
   "source": [
    "bern_experiment.set_var_params(deepcopy(phi0))"
   ]
  },
  {
   "cell_type": "code",
   "execution_count": 9,
   "metadata": {
    "collapsed": true
   },
   "outputs": [],
   "source": [
    "optimizer.zero_grad()"
   ]
  },
  {
   "cell_type": "code",
   "execution_count": 10,
   "metadata": {
    "collapsed": false
   },
   "outputs": [],
   "source": [
    "loss = bern_experiment.get_full_loss()"
   ]
  },
  {
   "cell_type": "code",
   "execution_count": 11,
   "metadata": {
    "collapsed": false
   },
   "outputs": [],
   "source": [
    "loss.backward()"
   ]
  },
  {
   "cell_type": "code",
   "execution_count": 12,
   "metadata": {
    "collapsed": false
   },
   "outputs": [
    {
     "name": "stdout",
     "output_type": "stream",
     "text": [
      "tensor([-0.0450])\n"
     ]
    }
   ],
   "source": [
    "true_grad = deepcopy(bern_experiment.var_params['phi'].grad)\n",
    "print(true_grad)"
   ]
  },
  {
   "cell_type": "markdown",
   "metadata": {
    "collapsed": true
   },
   "source": [
    "# analytically integrate REINFORCE gradient: should recover the true gradient"
   ]
  },
  {
   "cell_type": "code",
   "execution_count": 13,
   "metadata": {
    "collapsed": false
   },
   "outputs": [],
   "source": [
    "bern_experiment.set_var_params(deepcopy(phi0))\n",
    "optimizer.zero_grad()\n",
    "ps_loss = bern_experiment.get_pm_loss(topk = 8, grad_estimator = bs_lib.reinforce)"
   ]
  },
  {
   "cell_type": "code",
   "execution_count": 14,
   "metadata": {
    "collapsed": false
   },
   "outputs": [
    {
     "name": "stdout",
     "output_type": "stream",
     "text": [
      "tensor([-0.0450])\n"
     ]
    }
   ],
   "source": [
    "ps_loss.backward()\n",
    "reinforce_analytic_grad = deepcopy(bern_experiment.var_params['phi'].grad)\n",
    "print(reinforce_analytic_grad)"
   ]
  },
  {
   "cell_type": "code",
   "execution_count": 15,
   "metadata": {
    "collapsed": true
   },
   "outputs": [],
   "source": [
    "assert reinforce_analytic_grad == true_grad"
   ]
  },
  {
   "cell_type": "markdown",
   "metadata": {
    "collapsed": true
   },
   "source": [
    "# Reinforce + CV gradient"
   ]
  },
  {
   "cell_type": "code",
   "execution_count": 16,
   "metadata": {
    "collapsed": false
   },
   "outputs": [],
   "source": [
    "n_samples = 10000\n",
    "reinforce_grads = bern_lib.sample_bern_gradient(phi0, bern_experiment, \n",
    "                                  topk = 0, \n",
    "                                  grad_estimator = bs_lib.reinforce,\n",
    "                                  n_samples = n_samples)"
   ]
  },
  {
   "cell_type": "code",
   "execution_count": 17,
   "metadata": {
    "collapsed": false,
    "scrolled": true
   },
   "outputs": [
    {
     "name": "stdout",
     "output_type": "stream",
     "text": [
      "true_grad:  [-0.04500002]\n",
      "mean reinforce grad:  -0.056248475\n",
      "variance:  0.443401\n",
      "scaled error:  0.01997651\n"
     ]
    }
   ],
   "source": [
    "print('true_grad: ', true_grad.numpy())\n",
    "print('mean reinforce grad: ', torch.mean(reinforce_grads).numpy())\n",
    "print('variance: ', torch.var(reinforce_grads).numpy())\n",
    "\n",
    "print('scaled error: ', (torch.std(reinforce_grads) / np.sqrt(n_samples) * 3).numpy())"
   ]
  },
  {
   "cell_type": "code",
   "execution_count": 18,
   "metadata": {
    "collapsed": false,
    "scrolled": false
   },
   "outputs": [
    {
     "data": {
      "text/plain": [
       "Text(0.5, 0, 'reinforce gradients')"
      ]
     },
     "execution_count": 18,
     "metadata": {},
     "output_type": "execute_result"
    },
    {
     "data": {
      "image/png": "[encoded data removed]",
      "text/plain": [
       "<Figure size 432x288 with 1 Axes>"
      ]
     },
     "metadata": {},
     "output_type": "display_data"
    }
   ],
   "source": [
    "plt.hist(reinforce_grads)\n",
    "plt.axvline(x=true_grad, color = 'orange') # true gradient \n",
    "\n",
    "plt.xlabel('reinforce gradients')"
   ]
  },
  {
   "cell_type": "code",
   "execution_count": null,
   "metadata": {
    "collapsed": true
   },
   "outputs": [],
   "source": []
  },
  {
   "cell_type": "markdown",
   "metadata": {},
   "source": [
    "# Rao-Blackwellize"
   ]
  },
  {
   "cell_type": "markdown",
   "metadata": {},
   "source": [
    "Here we examine the variance of REINFORCE after using our Rao-Blackwellization procedure. We display the variance as a function of $k$, the number of categories summed.  "
   ]
  },
  {
   "cell_type": "code",
   "execution_count": 19,
   "metadata": {
    "collapsed": false,
    "scrolled": true
   },
   "outputs": [
    {
     "name": "stdout",
     "output_type": "stream",
     "text": [
      "tensor([0.], requires_grad=True)\n"
     ]
    }
   ],
   "source": [
    "print(phi0)"
   ]
  },
  {
   "cell_type": "code",
   "execution_count": 20,
   "metadata": {
    "code_folding": [],
    "collapsed": false
   },
   "outputs": [
    {
     "name": "stdout",
     "output_type": "stream",
     "text": [
      "tensor([0.], requires_grad=True)\n",
      "topk = 0\n",
      "mean reinforce grad:  -0.045077994\n",
      "variance:  0.012753774\n",
      "tensor([0.], requires_grad=True)\n",
      "topk = 1\n",
      "mean reinforce grad:  -0.045844004\n",
      "variance:  0.007630086\n",
      "tensor([0.], requires_grad=True)\n",
      "topk = 2\n",
      "mean reinforce grad:  -0.04464275\n",
      "variance:  0.0063941707\n",
      "tensor([0.], requires_grad=True)\n",
      "topk = 3\n",
      "mean reinforce grad:  -0.04470663\n",
      "variance:  0.005205873\n",
      "tensor([0.], requires_grad=True)\n",
      "topk = 4\n",
      "mean reinforce grad:  -0.044553503\n",
      "variance:  0.0036560483\n",
      "tensor([0.], requires_grad=True)\n",
      "topk = 5\n",
      "mean reinforce grad:  -0.044983376\n",
      "variance:  0.0016118209\n",
      "tensor([0.], requires_grad=True)\n",
      "topk = 6\n",
      "mean reinforce grad:  -0.044479758\n",
      "variance:  0.0011932058\n",
      "tensor([0.], requires_grad=True)\n",
      "topk = 7\n",
      "mean reinforce grad:  -0.044302125\n",
      "variance:  0.0010063971\n",
      "tensor([0.], requires_grad=True)\n",
      "topk = 8\n",
      "mean reinforce grad:  -0.044769753\n",
      "variance:  0.0009917535\n"
     ]
    }
   ],
   "source": [
    "n_samples = 10000\n",
    "\n",
    "mixed_grads_array = torch.zeros((2**d + 1, n_samples))\n",
    "\n",
    "for i in range(0, 2**d + 1): \n",
    "    print(phi0)\n",
    "    grads = bern_lib.sample_bern_gradient(phi0, bern_experiment, \n",
    "                                topk = i, \n",
    "                                grad_estimator = bs_lib.reinforce_w_double_sample_baseline,\n",
    "                                n_samples = n_samples)\n",
    "    \n",
    "    mixed_grads_array[i, :] = grads\n",
    "    \n",
    "    print('topk = {}'.format(i))\n",
    "    print('mean reinforce grad: ', torch.mean(grads).numpy())\n",
    "    print('variance: ', torch.var(grads).numpy())\n"
   ]
  },
  {
   "cell_type": "code",
   "execution_count": 21,
   "metadata": {
    "collapsed": false,
    "scrolled": true
   },
   "outputs": [
    {
     "data": {
      "image/png": "[encoded data removed]",
      "text/plain": [
       "<Figure size 432x288 with 1 Axes>"
      ]
     },
     "metadata": {},
     "output_type": "display_data"
    },
    {
     "data": {
      "image/png": "[encoded data removed]",
      "text/plain": [
       "<Figure size 432x288 with 1 Axes>"
      ]
     },
     "metadata": {},
     "output_type": "display_data"
    },
    {
     "data": {
      "image/png": "[encoded data removed]",
      "text/plain": [
       "<Figure size 432x288 with 1 Axes>"
      ]
     },
     "metadata": {},
     "output_type": "display_data"
    },
    {
     "data": {
      "image/png": "[encoded data removed]",
      "text/plain": [
       "<Figure size 432x288 with 1 Axes>"
      ]
     },
     "metadata": {},
     "output_type": "display_data"
    },
    {
     "data": {
      "image/png": "[encoded data removed]",
      "text/plain": [
       "<Figure size 432x288 with 1 Axes>"
      ]
     },
     "metadata": {},
     "output_type": "display_data"
    },
    {
     "data": {
      "image/png": "[encoded data removed]",
      "text/plain": [
       "<Figure size 432x288 with 1 Axes>"
      ]
     },
     "metadata": {},
     "output_type": "display_data"
    },
    {
     "data": {
      "image/png": "[encoded data removed]",
      "text/plain": [
       "<Figure size 432x288 with 1 Axes>"
      ]
     },
     "metadata": {},
     "output_type": "display_data"
    }
   ],
   "source": [
    "# Lets look at the histogram of the distribution of \n",
    "# the gradient estimates\n",
    "\n",
    "for i in range(1, 2**d): \n",
    "    plt.figure()\n",
    "    plt.hist(mixed_grads_array[i-1, :])\n",
    "    plt.axvline(x=true_grad, color = 'orange') # true gradient \n",
    "    \n",
    "    plt.title('num_reinforced = {}'.format(i))\n",
    "    plt.xlabel('gradients')"
   ]
  },
  {
   "cell_type": "code",
   "execution_count": 22,
   "metadata": {
    "collapsed": true
   },
   "outputs": [],
   "source": [
    "fontsize = 16"
   ]
  },
  {
   "cell_type": "raw",
   "metadata": {},
   "source": [
    "This is figure 2 (bottom) in our paper"
   ]
  },
  {
   "cell_type": "code",
   "execution_count": 23,
   "metadata": {
    "collapsed": false,
    "scrolled": true
   },
   "outputs": [
    {
     "data": {
      "image/png": "[encoded data removed]",
      "text/plain": [
       "<Figure size 432x288 with 1 Axes>"
      ]
     },
     "metadata": {},
     "output_type": "display_data"
    }
   ],
   "source": [
    "# summarize distribution all on the same plot\n",
    "# Error bars are 3 * st. error of the distribution \n",
    "\n",
    "mixed_grads_means = np.mean(mixed_grads_array.numpy(), axis = 1)\n",
    "mixed_grads_stds = np.std(mixed_grads_array.numpy(), axis = 1)\n",
    "\n",
    "plt.boxplot(mixed_grads_array, positions = range(2**d + 1))\n",
    "\n",
    "plt.plot(np.linspace(0, 2**d), true_grad.numpy() * np.ones(50), '--')\n",
    "\n",
    "plt.ylabel('Gradient estimates', fontsize = fontsize)\n",
    "plt.xlabel('Categories summed', fontsize = fontsize)\n",
    "plt.title('Gradient estimates at $\\eta$ = {}'.format(0), fontsize = fontsize)\n",
    "\n",
    "plt.tight_layout()\n",
    "\n",
    "# plt.savefig('../icml_figures/bernoulli_variances_reinforce_eta0')"
   ]
  },
  {
   "cell_type": "code",
   "execution_count": 24,
   "metadata": {
    "collapsed": false
   },
   "outputs": [
    {
     "data": {
      "text/plain": [
       "Text(0.5, 1.0, 'standard errors at $\\\\eta$ = 0.0')"
      ]
     },
     "execution_count": 24,
     "metadata": {},
     "output_type": "execute_result"
    },
    {
     "data": {
      "image/png": "[encoded data removed]",
      "text/plain": [
       "<Figure size 432x288 with 1 Axes>"
      ]
     },
     "metadata": {},
     "output_type": "display_data"
    }
   ],
   "source": [
    "plt.plot(np.arange(0, 2**d + 1), mixed_grads_stds, 'x-', markersize = 12)\n",
    "plt.xlabel('Number summed')\n",
    "plt.ylabel('st. dev. of gradient')\n",
    "plt.title('standard errors at $\\eta$ = {}'.format(phi0.detach().numpy()[0]))"
   ]
  },
  {
   "cell_type": "code",
   "execution_count": null,
   "metadata": {
    "collapsed": true
   },
   "outputs": [],
   "source": []
  },
  {
   "cell_type": "markdown",
   "metadata": {
    "collapsed": true
   },
   "source": [
    "# The variance reduction of Rao-Blackwellization is more pronounced as the variational distribution becomes more concentrated"
   ]
  },
  {
   "cell_type": "markdown",
   "metadata": {},
   "source": [
    "Let $\\phi$ be equal to -4, so the b is heavily concentrated on (0, 0, 0). "
   ]
  },
  {
   "cell_type": "code",
   "execution_count": 25,
   "metadata": {
    "collapsed": false
   },
   "outputs": [
    {
     "data": {
      "text/plain": [
       "tensor([-4.], requires_grad=True)"
      ]
     },
     "execution_count": 25,
     "metadata": {},
     "output_type": "execute_result"
    }
   ],
   "source": [
    "phi0 = torch.Tensor([-4.0])\n",
    "phi0.requires_grad_(True)"
   ]
  },
  {
   "cell_type": "code",
   "execution_count": 26,
   "metadata": {
    "collapsed": false
   },
   "outputs": [
    {
     "name": "stdout",
     "output_type": "stream",
     "text": [
      "tensor([[9.4701e-01, 1.7345e-02, 1.7345e-02, 3.1769e-04, 1.7345e-02, 3.1769e-04,\n",
      "         3.1769e-04, 5.8186e-06]], grad_fn=<ExpBackward>)\n"
     ]
    }
   ],
   "source": [
    "bern_experiment.set_var_params(deepcopy(phi0))\n",
    "class_weights = torch.exp(bern_experiment.get_log_q())\n",
    "print(class_weights)"
   ]
  },
  {
   "cell_type": "code",
   "execution_count": 27,
   "metadata": {
    "collapsed": true
   },
   "outputs": [],
   "source": [
    "# again assert that analyitcally summing REINFORCE returns the true gradient"
   ]
  },
  {
   "cell_type": "code",
   "execution_count": 28,
   "metadata": {
    "collapsed": false
   },
   "outputs": [
    {
     "name": "stdout",
     "output_type": "stream",
     "text": [
      "tensor([-0.0032])\n"
     ]
    }
   ],
   "source": [
    "optimizer.zero_grad()\n",
    "loss = bern_experiment.get_full_loss()\n",
    "loss.backward()\n",
    "\n",
    "\n",
    "true_grad = deepcopy(bern_experiment.var_params['phi'].grad)\n",
    "print(true_grad)"
   ]
  },
  {
   "cell_type": "code",
   "execution_count": 29,
   "metadata": {
    "collapsed": false
   },
   "outputs": [
    {
     "name": "stdout",
     "output_type": "stream",
     "text": [
      "tensor([-0.0032])\n"
     ]
    }
   ],
   "source": [
    "bern_experiment.set_var_params(deepcopy(phi0))\n",
    "optimizer.zero_grad()\n",
    "ps_loss = bern_experiment.get_pm_loss(topk = 8, grad_estimator = bs_lib.reinforce)\n",
    "\n",
    "ps_loss.backward()\n",
    "reinforce_analytic_grad = deepcopy(bern_experiment.var_params['phi'].grad)\n",
    "print(reinforce_analytic_grad)"
   ]
  },
  {
   "cell_type": "code",
   "execution_count": 30,
   "metadata": {
    "collapsed": false
   },
   "outputs": [],
   "source": [
    "assert reinforce_analytic_grad == true_grad"
   ]
  },
  {
   "cell_type": "markdown",
   "metadata": {
    "collapsed": true
   },
   "source": [
    "### re-examine the effect of rao-blackwellization at this new phi"
   ]
  },
  {
   "cell_type": "code",
   "execution_count": 31,
   "metadata": {
    "collapsed": false
   },
   "outputs": [
    {
     "name": "stdout",
     "output_type": "stream",
     "text": [
      "tensor([-4.], requires_grad=True)\n"
     ]
    }
   ],
   "source": [
    "print(phi0)"
   ]
  },
  {
   "cell_type": "code",
   "execution_count": 32,
   "metadata": {
    "code_folding": [],
    "collapsed": false
   },
   "outputs": [
    {
     "name": "stdout",
     "output_type": "stream",
     "text": [
      "topk = 0\n",
      "mean reinforce grad:  -0.0030660357\n",
      "variance:  0.0007229442\n",
      "topk = 1\n",
      "mean reinforce grad:  -0.0030869234\n",
      "variance:  3.262091e-05\n",
      "topk = 2\n",
      "mean reinforce grad:  -0.0031478107\n",
      "variance:  2.1005664e-05\n",
      "topk = 3\n",
      "mean reinforce grad:  -0.0032026623\n",
      "variance:  4.809271e-06\n",
      "topk = 4\n",
      "mean reinforce grad:  -0.0031787453\n",
      "variance:  2.572756e-06\n",
      "topk = 5\n",
      "mean reinforce grad:  -0.0031761385\n",
      "variance:  2.561362e-06\n",
      "topk = 6\n",
      "mean reinforce grad:  -0.003209714\n",
      "variance:  2.6447724e-06\n",
      "topk = 7\n",
      "mean reinforce grad:  -0.0031668644\n",
      "variance:  2.5091397e-06\n",
      "topk = 8\n",
      "mean reinforce grad:  -0.0031644767\n",
      "variance:  2.480459e-06\n"
     ]
    }
   ],
   "source": [
    "n_samples = 10000\n",
    "\n",
    "mixed_grads_array2 = torch.zeros((2**d + 1, n_samples))\n",
    "\n",
    "for i in range(0, 2**d + 1): \n",
    "    grads = bern_lib.sample_bern_gradient(phi0, bern_experiment, \n",
    "                                  topk = i, \n",
    "                                grad_estimator = bs_lib.reinforce_w_double_sample_baseline,\n",
    "                                  n_samples = n_samples)\n",
    "    \n",
    "    mixed_grads_array2[i, :] = grads\n",
    "    \n",
    "    print('topk = {}'.format(i))\n",
    "    print('mean reinforce grad: ', torch.mean(grads).numpy())\n",
    "    print('variance: ', torch.var(grads).numpy())\n"
   ]
  },
  {
   "cell_type": "code",
   "execution_count": 33,
   "metadata": {
    "collapsed": false,
    "scrolled": true
   },
   "outputs": [
    {
     "data": {
      "image/png": "[encoded data removed]",
      "text/plain": [
       "<Figure size 432x288 with 1 Axes>"
      ]
     },
     "metadata": {},
     "output_type": "display_data"
    },
    {
     "data": {
      "image/png": "[encoded data removed]",
      "text/plain": [
       "<Figure size 432x288 with 1 Axes>"
      ]
     },
     "metadata": {},
     "output_type": "display_data"
    },
    {
     "data": {
      "image/png": "[encoded data removed]",
      "text/plain": [
       "<Figure size 432x288 with 1 Axes>"
      ]
     },
     "metadata": {},
     "output_type": "display_data"
    },
    {
     "data": {
      "image/png": "[encoded data removed]",
      "text/plain": [
       "<Figure size 432x288 with 1 Axes>"
      ]
     },
     "metadata": {},
     "output_type": "display_data"
    },
    {
     "data": {
      "image/png": "[encoded data removed]",
      "text/plain": [
       "<Figure size 432x288 with 1 Axes>"
      ]
     },
     "metadata": {},
     "output_type": "display_data"
    },
    {
     "data": {
      "image/png": "[encoded data removed]",
      "text/plain": [
       "<Figure size 432x288 with 1 Axes>"
      ]
     },
     "metadata": {},
     "output_type": "display_data"
    },
    {
     "data": {
      "image/png": "[encoded data removed]",
      "text/plain": [
       "<Figure size 432x288 with 1 Axes>"
      ]
     },
     "metadata": {},
     "output_type": "display_data"
    }
   ],
   "source": [
    "# Lets look at the histogram of the distribution of \n",
    "# the gradient estimates\n",
    "\n",
    "for i in range(1, 2**d): \n",
    "    plt.figure()\n",
    "    plt.hist(mixed_grads_array2[i-1, :])\n",
    "    plt.axvline(x=true_grad, color = 'orange') # true gradient \n",
    "    \n",
    "    plt.title('num_reinforced = {}'.format(i))\n",
    "    plt.xlabel('gradients')"
   ]
  },
  {
   "cell_type": "markdown",
   "metadata": {},
   "source": [
    "This is figure 2 (bottom) in our paper"
   ]
  },
  {
   "cell_type": "code",
   "execution_count": 34,
   "metadata": {
    "collapsed": false,
    "scrolled": true
   },
   "outputs": [
    {
     "data": {
      "image/png": "[encoded data removed]",
      "text/plain": [
       "<Figure size 432x288 with 1 Axes>"
      ]
     },
     "metadata": {},
     "output_type": "display_data"
    }
   ],
   "source": [
    "# summarize distribution all on the same plot\n",
    "# Error bars are 3 * st. dev of the distribution \n",
    "\n",
    "mixed_grads_means = np.mean(mixed_grads_array2.numpy(), axis = 1)\n",
    "mixed_grads_stds = np.std(mixed_grads_array2.numpy(), axis = 1)\n",
    "\n",
    "plt.boxplot(mixed_grads_array2, positions = range(0, 2**d + 1))\n",
    "\n",
    "plt.plot(np.linspace(1, 2**d + 1), true_grad.numpy() * np.ones(50), '--')\n",
    "\n",
    "plt.ylabel('Gradient estimate', fontsize = fontsize)\n",
    "plt.xlabel('Categories summed', fontsize = fontsize)\n",
    "plt.title('Gradient estimates at $\\eta$ = {}'.format(phi0.detach().numpy()[0]), \n",
    "          fontsize = fontsize)\n",
    "\n",
    "plt.tight_layout()\n",
    "# plt.savefig('../icml_figures/bernoulli_variances_reinforce_eta_neg4')"
   ]
  },
  {
   "cell_type": "code",
   "execution_count": 35,
   "metadata": {
    "collapsed": false
   },
   "outputs": [
    {
     "data": {
      "text/plain": [
       "Text(0.5, 1.0, 'standard errors at $\\\\eta$ = -4.0')"
      ]
     },
     "execution_count": 35,
     "metadata": {},
     "output_type": "execute_result"
    },
    {
     "data": {
      "image/png": "[encoded data removed]",
      "text/plain": [
       "<Figure size 432x288 with 1 Axes>"
      ]
     },
     "metadata": {},
     "output_type": "display_data"
    }
   ],
   "source": [
    "plt.plot(np.arange(0, 2**d + 1), mixed_grads_stds, 'x-', markersize = 12)\n",
    "plt.xlabel('Number summed')\n",
    "plt.ylabel('st. error of gradient')\n",
    "plt.xlabel('Number summed')\n",
    "plt.ylabel('st. error of gradient')\n",
    "plt.title('standard errors at $\\eta$ = {}'.format(phi0.detach().numpy()[0]))"
   ]
  },
  {
   "cell_type": "code",
   "execution_count": null,
   "metadata": {
    "collapsed": true
   },
   "outputs": [],
   "source": []
  },
  {
   "cell_type": "code",
   "execution_count": null,
   "metadata": {
    "collapsed": true
   },
   "outputs": [],
   "source": []
  }
 ],
 "metadata": {
  "kernelspec": {
   "display_name": "Python (pytorch_04)",
   "language": "python",
   "name": "pytorch_update"
  },
  "language_info": {
   "codemirror_mode": {
    "name": "ipython",
    "version": 3
   },
   "file_extension": ".py",
   "mimetype": "text/x-python",
   "name": "python",
   "nbconvert_exporter": "python",
   "pygments_lexer": "ipython3",
   "version": "3.6.8"
  }
 },
 "nbformat": 4,
 "nbformat_minor": 2
}
